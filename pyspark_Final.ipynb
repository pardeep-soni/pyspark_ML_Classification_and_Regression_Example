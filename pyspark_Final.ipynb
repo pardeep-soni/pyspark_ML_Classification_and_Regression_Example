
   ]
  },
  {
   "cell_type": "markdown",
   "metadata": {},
   "source": [
    "# Part 1"
   ]
  },
  {
   "cell_type": "code",
   "execution_count": 1,
   "metadata": {},
   "outputs": [],
   "source": [
    "# Create spark session\n",
    "from pyspark.sql import SparkSession\n",
    "from pyspark.ml import Pipeline\n",
    "spark = SparkSession.builder.appName(\"Medical_info\").getOrCreate()"
   ]
  },
  {
   "cell_type": "markdown",
   "metadata": {},
   "source": [
    "### Importing libraries"
   ]
  },
  {
   "cell_type": "code",
   "execution_count": 2,
   "metadata": {},
   "outputs": [],
   "source": [
    "from pyspark.sql.functions import *\n",
    "from pyspark.sql.types import StructField,StringType,IntegerType,StructType,DoubleType"
   ]
  },
  {
   "cell_type": "code",
   "execution_count": 3,
   "metadata": {},
   "outputs": [
    {
     "data": {
      "text/plain": [
       "[StructField(id,DoubleType,true),\n",
       " StructField(age,DoubleType,true),\n",
       " StructField(BMI,DoubleType,true),\n",
       " StructField(PSA,DoubleType,true),\n",
       " StructField(TG,DoubleType,true),\n",
       " StructField(Cholesterol,DoubleType,true),\n",
       " StructField(LDLChole,DoubleType,true),\n",
       " StructField(HDLChole,DoubleType,true),\n",
       " StructField(Glucose,DoubleType,true),\n",
       " StructField(Testosterone,DoubleType,true),\n",
       " StructField(BP_1,DoubleType,true)]"
      ]
     },
     "execution_count": 3,
     "metadata": {},
     "output_type": "execute_result"
    }
   ],
   "source": [
    "data_schema = [StructField(\"id\", DoubleType(), True), \n",
    "               StructField(\"age\", DoubleType(), True),\n",
    "              StructField(\"BMI\", DoubleType(), True),\n",
    "              StructField(\"PSA\", DoubleType(), True),\n",
    "              StructField(\"TG\", DoubleType(), True),\n",
    "              StructField(\"Cholesterol\", DoubleType(), True),\n",
    "              StructField(\"LDLChole\", DoubleType(), True),\n",
    "              StructField(\"HDLChole\", DoubleType(), True),\n",
    "              StructField(\"Glucose\", DoubleType(), True),\n",
    "              StructField(\"Testosterone\", DoubleType(), True),\n",
    "              StructField(\"BP_1\", DoubleType(), True),]\n",
    "data_schema"
   ]
  },
  {
   "cell_type": "code",
   "execution_count": 4,
   "metadata": {},
   "outputs": [
    {
     "data": {
      "text/plain": [
       "pyspark.sql.types.StructType"
      ]
     },
     "execution_count": 4,
     "metadata": {},
     "output_type": "execute_result"
    }
   ],
   "source": [
    "final_schema = StructType(fields=data_schema)\n",
    "StructType"
   ]
  },
  {
   "cell_type": "markdown",
   "metadata": {},
   "source": [
    "## Step 1 Load data into spark dataframe"
   ]
  },
  {
   "cell_type": "code",
   "execution_count": 5,
   "metadata": {},
   "outputs": [
    {
     "data": {
      "text/html": [
       "<div>\n",
       "<style scoped>\n",
       "    .dataframe tbody tr th:only-of-type {\n",
       "        vertical-align: middle;\n",
       "    }\n",
       "\n",
       "    .dataframe tbody tr th {\n",
       "        vertical-align: top;\n",
       "    }\n",
       "\n",
       "    .dataframe thead th {\n",
       "        text-align: right;\n",
       "    }\n",
       "</style>\n",
       "<table border=\"1\" class=\"dataframe\">\n",
       "  <thead>\n",
       "    <tr style=\"text-align: right;\">\n",
       "      <th></th>\n",
       "      <th>id</th>\n",
       "      <th>age</th>\n",
       "      <th>BMI</th>\n",
       "      <th>PSA</th>\n",
       "      <th>TG</th>\n",
       "      <th>Cholesterol</th>\n",
       "      <th>LDLChole</th>\n",
       "      <th>HDLChole</th>\n",
       "      <th>Glucose</th>\n",
       "      <th>Testosterone</th>\n",
       "      <th>BP_1</th>\n",
       "    </tr>\n",
       "  </thead>\n",
       "  <tbody>\n",
       "    <tr>\n",
       "      <th>0</th>\n",
       "      <td>19782173.0</td>\n",
       "      <td>59.0</td>\n",
       "      <td>28.378</td>\n",
       "      <td>0.34</td>\n",
       "      <td>204.0</td>\n",
       "      <td>196.0</td>\n",
       "      <td>132.0</td>\n",
       "      <td>49.0</td>\n",
       "      <td>92.0</td>\n",
       "      <td>7.70</td>\n",
       "      <td>1.0</td>\n",
       "    </tr>\n",
       "    <tr>\n",
       "      <th>1</th>\n",
       "      <td>32613511.0</td>\n",
       "      <td>59.0</td>\n",
       "      <td>24.968</td>\n",
       "      <td>1.00</td>\n",
       "      <td>147.0</td>\n",
       "      <td>181.0</td>\n",
       "      <td>129.0</td>\n",
       "      <td>34.0</td>\n",
       "      <td>96.0</td>\n",
       "      <td>4.09</td>\n",
       "      <td>1.0</td>\n",
       "    </tr>\n",
       "    <tr>\n",
       "      <th>2</th>\n",
       "      <td>32723850.0</td>\n",
       "      <td>48.0</td>\n",
       "      <td>31.307</td>\n",
       "      <td>0.62</td>\n",
       "      <td>155.0</td>\n",
       "      <td>185.0</td>\n",
       "      <td>127.0</td>\n",
       "      <td>41.0</td>\n",
       "      <td>139.0</td>\n",
       "      <td>4.50</td>\n",
       "      <td>1.0</td>\n",
       "    </tr>\n",
       "    <tr>\n",
       "      <th>3</th>\n",
       "      <td>22913531.0</td>\n",
       "      <td>47.0</td>\n",
       "      <td>27.837</td>\n",
       "      <td>0.38</td>\n",
       "      <td>488.0</td>\n",
       "      <td>254.0</td>\n",
       "      <td>158.0</td>\n",
       "      <td>55.0</td>\n",
       "      <td>250.0</td>\n",
       "      <td>5.30</td>\n",
       "      <td>2.0</td>\n",
       "    </tr>\n",
       "    <tr>\n",
       "      <th>4</th>\n",
       "      <td>32628551.0</td>\n",
       "      <td>55.0</td>\n",
       "      <td>22.662</td>\n",
       "      <td>0.49</td>\n",
       "      <td>87.0</td>\n",
       "      <td>175.0</td>\n",
       "      <td>120.0</td>\n",
       "      <td>44.0</td>\n",
       "      <td>99.0</td>\n",
       "      <td>6.90</td>\n",
       "      <td>1.0</td>\n",
       "    </tr>\n",
       "  </tbody>\n",
       "</table>\n",
       "</div>"
      ],
      "text/plain": [
       "           id   age     BMI   PSA     TG  Cholesterol  LDLChole  HDLChole  \\\n",
       "0  19782173.0  59.0  28.378  0.34  204.0        196.0     132.0      49.0   \n",
       "1  32613511.0  59.0  24.968  1.00  147.0        181.0     129.0      34.0   \n",
       "2  32723850.0  48.0  31.307  0.62  155.0        185.0     127.0      41.0   \n",
       "3  22913531.0  47.0  27.837  0.38  488.0        254.0     158.0      55.0   \n",
       "4  32628551.0  55.0  22.662  0.49   87.0        175.0     120.0      44.0   \n",
       "\n",
       "   Glucose  Testosterone  BP_1  \n",
       "0     92.0          7.70   1.0  \n",
       "1     96.0          4.09   1.0  \n",
       "2    139.0          4.50   1.0  \n",
       "3    250.0          5.30   2.0  \n",
       "4     99.0          6.90   1.0  "
      ]
     },
     "execution_count": 5,
     "metadata": {},
     "output_type": "execute_result"
    }
   ],
   "source": [
    "Dataframe = spark.read.csv('./Medical_info(1).csv', schema=final_schema,header = True)\n",
    "Dataframe.limit(5).toPandas()"
   ]
  },
  {
   "cell_type": "markdown",
   "metadata": {},
   "source": [
    "### Inspect Schema\n",
    "\n",
    "Now that we have loaded the data and that the schema was inferred automatically, let's inspect it."
   ]
  },
  {
   "cell_type": "code",
   "execution_count": 6,
   "metadata": {},
   "outputs": [
    {
     "name": "stdout",
     "output_type": "stream",
     "text": [
      "root\n",
      " |-- id: double (nullable = true)\n",
      " |-- age: double (nullable = true)\n",
      " |-- BMI: double (nullable = true)\n",
      " |-- PSA: double (nullable = true)\n",
      " |-- TG: double (nullable = true)\n",
      " |-- Cholesterol: double (nullable = true)\n",
      " |-- LDLChole: double (nullable = true)\n",
      " |-- HDLChole: double (nullable = true)\n",
      " |-- Glucose: double (nullable = true)\n",
      " |-- Testosterone: double (nullable = true)\n",
      " |-- BP_1: double (nullable = true)\n",
      "\n"
     ]
    }
   ],
   "source": [
    "Dataframe.printSchema()"
   ]
  },
  {
   "cell_type": "code",
   "execution_count": 7,
   "metadata": {},
   "outputs": [
    {
     "name": "stdout",
     "output_type": "stream",
     "text": [
      "Structure of Medical_info (6967, 11)\n"
     ]
    }
   ],
   "source": [
    "print(\"Structure of Medical_info\",Dataframe.toPandas().shape)"
   ]
  },
  {
   "cell_type": "markdown",
   "metadata": {},
   "source": [
    "###  Data preprocessing"
   ]
  },
  {
   "cell_type": "markdown",
   "metadata": {},
   "source": [
    "## Step 2 missing values"
   ]
  },
  {
   "cell_type": "markdown",
   "metadata": {},
   "source": [
    "### Checking null values in dataframe"
   ]
  },
  {
   "cell_type": "code",
   "execution_count": 8,
   "metadata": {},
   "outputs": [
    {
     "data": {
      "text/plain": [
       "id               0\n",
       "age              0\n",
       "BMI              0\n",
       "PSA             58\n",
       "TG               0\n",
       "Cholesterol      1\n",
       "LDLChole         0\n",
       "HDLChole         0\n",
       "Glucose          1\n",
       "Testosterone     0\n",
       "BP_1             0\n",
       "dtype: int64"
      ]
     },
     "execution_count": 8,
     "metadata": {},
     "output_type": "execute_result"
    }
   ],
   "source": [
    "Dataframe.toPandas().isnull().sum()"
   ]
  },
  {
   "cell_type": "code",
   "execution_count": 9,
   "metadata": {},
   "outputs": [
    {
     "name": "stdout",
     "output_type": "stream",
     "text": [
      "+---+---+---+---+---+-----------+--------+--------+-------+------------+----+\n",
      "| id|age|BMI|PSA| TG|Cholesterol|LDLChole|HDLChole|Glucose|Testosterone|BP_1|\n",
      "+---+---+---+---+---+-----------+--------+--------+-------+------------+----+\n",
      "|  0|  0|  0| 58|  0|          1|       0|       0|      1|           0|   0|\n",
      "+---+---+---+---+---+-----------+--------+--------+-------+------------+----+\n",
      "\n"
     ]
    }
   ],
   "source": [
    "### Get count of null values in pyspark\n",
    "from pyspark.sql.functions import isnan, when, count, col\n",
    "Dataframe.select([count(when(col(c).isNull(), c)).alias(c) for c in Dataframe.columns]).show()"
   ]
  },
  {
   "cell_type": "code",
   "execution_count": 10,
   "metadata": {},
   "outputs": [
    {
     "name": "stdout",
     "output_type": "stream",
     "text": [
      "+---+---+---+---+---+-----------+--------+--------+-------+------------+----+\n",
      "| id|age|BMI|PSA| TG|Cholesterol|LDLChole|HDLChole|Glucose|Testosterone|BP_1|\n",
      "+---+---+---+---+---+-----------+--------+--------+-------+------------+----+\n",
      "|  0|  0|  0| 58|  0|          1|       0|       0|      1|           0|   0|\n",
      "+---+---+---+---+---+-----------+--------+--------+-------+------------+----+\n",
      "\n"
     ]
    }
   ],
   "source": [
    "### Get count of both null and missing values in pyspark\n",
    "Dataframe.select([count(when(isnan(c) | col(c).isNull(), c)).alias(c) for c in Dataframe.columns]).show()"
   ]
  },
  {
   "cell_type": "code",
   "execution_count": 11,
   "metadata": {},
   "outputs": [
    {
     "name": "stdout",
     "output_type": "stream",
     "text": [
      "+-------+--------------------+-----------------+------------------+------------------+------------------+------------------+------------------+------------------+------------------+------------------+-------------------+\n",
      "|summary|                  id|              age|               BMI|               PSA|                TG|       Cholesterol|          LDLChole|          HDLChole|           Glucose|      Testosterone|               BP_1|\n",
      "+-------+--------------------+-----------------+------------------+------------------+------------------+------------------+------------------+------------------+------------------+------------------+-------------------+\n",
      "|  count|                6967|             6967|              6967|              6909|              6967|              6966|              6967|              6967|              6966|              6967|               6967|\n",
      "|   mean|3.0756150569829196E7|53.33156308310607|24.755782259222002|1.0225676653640172|143.83766326970002|194.19178868791272| 123.5633701736759| 51.44366298263241|106.40123456790124| 4.460765035165827| 1.4402181713793598|\n",
      "| stddev|   9324696.861000739|8.715031757570447| 2.832406602423774|1.2034207931266352|  90.9006198064037| 34.79164064082003|30.489775970185075|12.437380549366361| 24.33355654374981|1.7791852480179402|0.49644889820019666|\n",
      "|    min|         1.0507236E7|             21.0|               0.0|              0.02|              31.0|              86.0|              28.0|              16.0|              57.0|              0.04|                1.0|\n",
      "|    max|         4.3087989E7|             90.0|            43.261|              38.0|            2610.0|             395.0|             303.0|             141.0|             433.0|              16.0|                2.0|\n",
      "+-------+--------------------+-----------------+------------------+------------------+------------------+------------------+------------------+------------------+------------------+------------------+-------------------+\n",
      "\n"
     ]
    }
   ],
   "source": [
    "Dataframe.describe().show()"
   ]
  },
  {
   "cell_type": "code",
   "execution_count": 12,
   "metadata": {},
   "outputs": [],
   "source": [
    "raw_data=Dataframe.na.drop(\"any\")"
   ]
  },
  {
   "cell_type": "code",
   "execution_count": 31,
   "metadata": {},
   "outputs": [
    {
     "data": {
      "text/plain": [
       "id              0\n",
       "age             0\n",
       "BMI             0\n",
       "PSA             0\n",
       "TG              0\n",
       "Cholesterol     0\n",
       "LDLChole        0\n",
       "HDLChole        0\n",
       "Glucose         0\n",
       "Testosterone    0\n",
       "BP_1            0\n",
       "dtype: int64"
      ]
     },
     "execution_count": 31,
     "metadata": {},
     "output_type": "execute_result"
    }
   ],
   "source": [
    "raw_data.toPandas().isnull().sum()"
   ]
  },
  {
   "cell_type": "markdown",
   "metadata": {},
   "source": [
    "### Droped the Null Values and stored in data frame "
   ]
  },
  {
   "cell_type": "markdown",
   "metadata": {},
   "source": [
    "## Step 3 Statistics of column age"
   ]
  },
  {
   "cell_type": "code",
   "execution_count": 24,
   "metadata": {},
   "outputs": [
    {
     "name": "stdout",
     "output_type": "stream",
     "text": [
      "+-------+------------------+\n",
      "|summary|               age|\n",
      "+-------+------------------+\n",
      "|  count|              6909|\n",
      "|   mean|53.340715009408015|\n",
      "| stddev| 8.712714893790364|\n",
      "|    min|              21.0|\n",
      "|    max|              90.0|\n",
      "+-------+------------------+\n",
      "\n"
     ]
    }
   ],
   "source": [
    "raw_data.describe('age').show()"
   ]
  },
  {
   "cell_type": "code",
   "execution_count": 40,
   "metadata": {},
   "outputs": [],
   "source": [
    "from pyspark.sql import SQLContext\n",
    "raw_data.registerTempTable('Medical')\n",
    "sqlContext = SQLContext(spark)"
   ]
  },
  {
   "cell_type": "code",
   "execution_count": 41,
   "metadata": {},
   "outputs": [],
   "source": [
    "df_age = sqlContext.sql(\"SELECT age from Medical\").toPandas()"
   ]
  },
  {
   "cell_type": "code",
   "execution_count": 46,
   "metadata": {},
   "outputs": [
    {
     "data": {
      "image/png": "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\n",
      "text/plain": [
       "<Figure size 432x288 with 1 Axes>"
      ]
     },
     "metadata": {
      "needs_background": "light"
     },
     "output_type": "display_data"
    }
   ],
   "source": [
    "import matplotlib.pyplot as plt\n",
    "fig, ax = plt.subplots()\n",
    "ax.hist(df_age[\"age\"]);"
   ]
  },
  {
   "cell_type": "markdown",
   "metadata": {},
   "source": [
    "## Step 4 Quartiles and Boxplot of Column BMI"
   ]
  },
  {
   "cell_type": "markdown",
   "metadata": {},
   "source": [
    "### Quartiles of column BMI"
   ]
  },
  {
   "cell_type": "code",
   "execution_count": 15,
   "metadata": {},
   "outputs": [
    {
     "name": "stdout",
     "output_type": "stream",
     "text": [
      "1st 2nd and 3rd quartile respectively\n",
      " [0.0, 22.975, 43.261]\n"
     ]
    }
   ],
   "source": [
    "# Using pyspark\n",
    "print(\"1st 2nd and 3rd quartile respectively\\n\",raw_data.approxQuantile(\"BMI\", [0.25,0.5,0.75], 0.25))"
   ]
  },
  {
   "cell_type": "code",
   "execution_count": 16,
   "metadata": {},
   "outputs": [],
   "source": [
    "df1 = raw_data.toPandas()"
   ]
  },
  {
   "cell_type": "code",
   "execution_count": 17,
   "metadata": {},
   "outputs": [
    {
     "data": {
      "image/png": "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\n",
      "text/plain": [
       "<Figure size 432x288 with 1 Axes>"
      ]
     },
     "metadata": {
      "needs_background": "light"
     },
     "output_type": "display_data"
    }
   ],
   "source": [
    "import matplotlib.pyplot as plt\n",
    "plt.boxplot(df1[\"BMI\"]);"
   ]
  },
  {
   "cell_type": "code",
   "execution_count": 18,
   "metadata": {},
   "outputs": [
    {
     "data": {
      "text/plain": [
       "count    6909.000000\n",
       "mean       24.755393\n",
       "std         2.834716\n",
       "min         0.000000\n",
       "25%        22.975000\n",
       "50%        24.704000\n",
       "75%        26.435000\n",
       "max        43.261000\n",
       "Name: BMI, dtype: float64"
      ]
     },
     "execution_count": 18,
     "metadata": {},
     "output_type": "execute_result"
    }
   ],
   "source": [
    "df1.BMI.describe()"
   ]
  },
  {
   "cell_type": "markdown",
   "metadata": {},
   "source": [
    "## Step 5 count the number of rows where ‘age’ is greater than 50 and ‘BP_1’ equals 1."
   ]
  },
  {
   "cell_type": "code",
   "execution_count": 19,
   "metadata": {},
   "outputs": [],
   "source": [
    "fltr_df=raw_data.filter( (raw_data[\"age\"] > 50) & (raw_data['BP_1'] == 1) ).collect()"
   ]
  },
  {
   "cell_type": "code",
   "execution_count": 20,
   "metadata": {},
   "outputs": [
    {
     "name": "stdout",
     "output_type": "stream",
     "text": [
      "Total number of rows where age is greater thn 50 and BP_1 equal to 1\n",
      " 2166\n"
     ]
    }
   ],
   "source": [
    "print(\"Total number of rows where age is greater thn 50 and BP_1 equal to 1\\n\",len(fltr_df))"
   ]
  },
  {
   "cell_type": "markdown",
   "metadata": {},
   "source": [
    "## Step 6 two classification Models\n",
    "### Preprocessing the Data"
   ]
  },
  {
   "cell_type": "code",
   "execution_count": 21,
   "metadata": {},
   "outputs": [
    {
     "name": "stdout",
     "output_type": "stream",
     "text": [
      "+-----------+----+------+----+-----+-----------+--------+--------+-------+------------+----+--------------------+\n",
      "|         id| age|   BMI| PSA|   TG|Cholesterol|LDLChole|HDLChole|Glucose|Testosterone|BP_1|            features|\n",
      "+-----------+----+------+----+-----+-----------+--------+--------+-------+------------+----+--------------------+\n",
      "|1.9782173E7|59.0|28.378|0.34|204.0|      196.0|   132.0|    49.0|   92.0|         7.7| 1.0|[1.9782173E7,59.0...|\n",
      "|3.2613511E7|59.0|24.968| 1.0|147.0|      181.0|   129.0|    34.0|   96.0|        4.09| 1.0|[3.2613511E7,59.0...|\n",
      "| 3.272385E7|48.0|31.307|0.62|155.0|      185.0|   127.0|    41.0|  139.0|         4.5| 1.0|[3.272385E7,48.0,...|\n",
      "+-----------+----+------+----+-----+-----------+--------+--------+-------+------------+----+--------------------+\n",
      "only showing top 3 rows\n",
      "\n",
      "+----+--------------------+\n",
      "|BP_1|            features|\n",
      "+----+--------------------+\n",
      "| 1.0|[1.9782173E7,59.0...|\n",
      "| 1.0|[3.2613511E7,59.0...|\n",
      "| 1.0|[3.272385E7,48.0,...|\n",
      "+----+--------------------+\n",
      "only showing top 3 rows\n",
      "\n",
      "+----+--------------------+----------+\n",
      "|BP_1|            features|labelIndex|\n",
      "+----+--------------------+----------+\n",
      "| 1.0|[1.9782173E7,59.0...|       0.0|\n",
      "| 1.0|[3.2613511E7,59.0...|       0.0|\n",
      "| 1.0|[3.272385E7,48.0,...|       0.0|\n",
      "+----+--------------------+----------+\n",
      "only showing top 3 rows\n",
      "\n"
     ]
    }
   ],
   "source": [
    "from pyspark.ml.linalg import Vectors\n",
    "from pyspark.ml.feature import VectorAssembler\n",
    "# transformer\n",
    "vector_assembler = VectorAssembler(inputCols=[\"id\", \"age\", \"BMI\", \"PSA\",\"TG\",\"Cholesterol\",\"LDLChole\",\"HDLChole\",\"Glucose\",\"Testosterone\"],\n",
    "                                   outputCol=\"features\")\n",
    "df_temp = vector_assembler.transform(raw_data)\n",
    "df_temp.show(3)\n",
    "# drop the original data features column\n",
    "raw_data = df_temp.drop(\"id\", \"age\", \"BMI\", \"PSA\",\"TG\",\"Cholesterol\",\"LDLChole\",\"HDLChole\",\"Glucose\",\"Testosterone\")\n",
    "raw_data.show(3)\n",
    "from pyspark.ml.feature import StringIndexer\n",
    "# estimator\n",
    "l_indexer = StringIndexer(inputCol=\"BP_1\", outputCol=\"labelIndex\")\n",
    "raw_data = l_indexer.fit(raw_data).transform(raw_data)\n",
    "raw_data.show(3)\n",
    "# data splitting\n",
    "(training,testing) = raw_data.randomSplit([0.7,0.3])"
   ]
  },
  {
   "cell_type": "markdown",
   "metadata": {},
   "source": [
    "## Model 1 (Decision Tree Classifier)"
   ]
  },
  {
   "cell_type": "code",
   "execution_count": 22,
   "metadata": {},
   "outputs": [],
   "source": [
    "from pyspark.ml.classification import DecisionTreeClassifier\n",
    "# train our model using training data\n",
    "dt = DecisionTreeClassifier(labelCol=\"labelIndex\", featuresCol=\"features\")\n",
    "model = dt.fit(training)\n"
   ]
  },
  {
   "cell_type": "markdown",
   "metadata": {},
   "source": [
    "### test our model and make predictions using testing data"
   ]
  },
  {
   "cell_type": "code",
   "execution_count": 23,
   "metadata": {},
   "outputs": [
    {
     "name": "stdout",
     "output_type": "stream",
     "text": [
      "+----------+----------+\n",
      "|prediction|labelIndex|\n",
      "+----------+----------+\n",
      "|       0.0|       0.0|\n",
      "|       0.0|       0.0|\n",
      "|       0.0|       0.0|\n",
      "|       0.0|       0.0|\n",
      "|       0.0|       0.0|\n",
      "+----------+----------+\n",
      "only showing top 5 rows\n",
      "\n"
     ]
    }
   ],
   "source": [
    "\n",
    "predictions = model.transform(testing)\n",
    "predictions.select(\"prediction\", \"labelIndex\").show(5)"
   ]
  },
  {
   "cell_type": "markdown",
   "metadata": {},
   "source": [
    "### Decision Tree Evaluation"
   ]
  },
  {
   "cell_type": "code",
   "execution_count": 24,
   "metadata": {},
   "outputs": [
    {
     "name": "stdout",
     "output_type": "stream",
     "text": [
      "Test Error = 0.389504 \n",
      "Accuracy = 0.610496 \n"
     ]
    }
   ],
   "source": [
    "from pyspark.ml.evaluation import MulticlassClassificationEvaluator\n",
    "evaluator = MulticlassClassificationEvaluator(labelCol=\"labelIndex\", predictionCol=\"prediction\",metricName=\"accuracy\")\n",
    "accuracy = evaluator.evaluate(predictions)\n",
    "print(\"Test Error = %g \" % (1.0 - accuracy))\n",
    "print(\"Accuracy = %g \" % accuracy)"
   ]
  },
  {
   "cell_type": "markdown",
   "metadata": {},
   "source": [
    "## Model 2 Random Forest Classifier"
   ]
  },
  {
   "cell_type": "code",
   "execution_count": 25,
   "metadata": {},
   "outputs": [],
   "source": [
    "from pyspark.ml.classification import RandomForestClassifier\n",
    "# train our model using training data\n",
    "rf = RandomForestClassifier(labelCol=\"labelIndex\",featuresCol=\"features\", numTrees=100)\n",
    "model = rf.fit(training)\n"
   ]
  },
  {
   "cell_type": "markdown",
   "metadata": {},
   "source": [
    "### test our model and make predictions using testing data"
   ]
  },
  {
   "cell_type": "code",
   "execution_count": 26,
   "metadata": {},
   "outputs": [
    {
     "name": "stdout",
     "output_type": "stream",
     "text": [
      "+----------+----------+\n",
      "|prediction|labelIndex|\n",
      "+----------+----------+\n",
      "|       0.0|       0.0|\n",
      "|       0.0|       0.0|\n",
      "|       0.0|       0.0|\n",
      "|       0.0|       0.0|\n",
      "|       0.0|       0.0|\n",
      "+----------+----------+\n",
      "only showing top 5 rows\n",
      "\n"
     ]
    }
   ],
   "source": [
    "predictions = model.transform(testing)\n",
    "predictions.select(\"prediction\", \"labelIndex\").show(5)"
   ]
  },
  {
   "cell_type": "markdown",
   "metadata": {},
   "source": [
    "### evaluate the performance of the Random Forest classifier"
   ]
  },
  {
   "cell_type": "code",
   "execution_count": 27,
   "metadata": {},
   "outputs": [
    {
     "name": "stdout",
     "output_type": "stream",
     "text": [
      "Test Error = 0.384208\n",
      "Accuracy = 0.615792 \n"
     ]
    }
   ],
   "source": [
    "evaluator = MulticlassClassificationEvaluator(labelCol=\"labelIndex\",predictionCol=\"prediction\", metricName=\"accuracy\")\n",
    "accuracy = evaluator.evaluate(predictions)\n",
    "print(\"Test Error = %g\" % (1.0 - accuracy))\n",
    "print(\"Accuracy = %g \" % accuracy)"
   ]
  },
  {
   "cell_type": "markdown",
   "metadata": {},
   "source": [
    "# -----------------------------------------------------------------------"
   ]
  },
  {
   "cell_type": "markdown",
   "metadata": {},
   "source": [
    "# Part 2"
   ]
  },
  {
   "cell_type": "code",
   "execution_count": 28,
   "metadata": {},
   "outputs": [],
   "source": [
    "# Create spark session\n",
    "from pyspark.sql import SparkSession\n",
    "from pyspark.ml import Pipeline\n",
    "spark = SparkSession.builder.appName(\"Region_info\").getOrCreate()"
   ]
  },
  {
   "cell_type": "markdown",
   "metadata": {},
   "source": [
    "## Step 1 Load data into spark dataframe"
   ]
  },
  {
   "cell_type": "code",
   "execution_count": 29,
   "metadata": {},
   "outputs": [],
   "source": [
    "from pyspark.sql.functions import *\n",
    "from pyspark.sql.types import StructField,StringType,IntegerType,StructType,DoubleType"
   ]
  },
  {
   "cell_type": "code",
   "execution_count": 30,
   "metadata": {},
   "outputs": [
    {
     "data": {
      "text/plain": [
       "[StructField(population,DoubleType,true),\n",
       " StructField(fertility,DoubleType,true),\n",
       " StructField(HIV,DoubleType,true),\n",
       " StructField(CO2,DoubleType,true),\n",
       " StructField(BMI_male,DoubleType,true),\n",
       " StructField(GDP,DoubleType,true),\n",
       " StructField(BMI_female,DoubleType,true),\n",
       " StructField(life,DoubleType,true),\n",
       " StructField(child_mortality,DoubleType,true),\n",
       " StructField(Region,StringType,true)]"
      ]
     },
     "execution_count": 30,
     "metadata": {},
     "output_type": "execute_result"
    }
   ],
   "source": [
    "data_schema = [StructField(\"population\", DoubleType(), True), \n",
    "               StructField(\"fertility\", DoubleType(), True),\n",
    "              StructField(\"HIV\", DoubleType(), True),\n",
    "              StructField(\"CO2\", DoubleType(), True),\n",
    "              StructField(\"BMI_male\", DoubleType(), True),\n",
    "               StructField(\"GDP\", DoubleType(), True),\n",
    "               StructField(\"BMI_female\", DoubleType(), True),\n",
    "              StructField(\"life\", DoubleType(), True),\n",
    "              StructField(\"child_mortality\", DoubleType(), True),\n",
    "              StructField(\"Region\", StringType(), True)]\n",
    "data_schema"
   ]
  },
  {
   "cell_type": "code",
   "execution_count": 31,
   "metadata": {},
   "outputs": [
    {
     "data": {
      "text/plain": [
       "pyspark.sql.types.StructType"
      ]
     },
     "execution_count": 31,
     "metadata": {},
     "output_type": "execute_result"
    }
   ],
   "source": [
    "final_schema = StructType(fields=data_schema)\n",
    "StructType"
   ]
  },
  {
   "cell_type": "code",
   "execution_count": 32,
   "metadata": {},
   "outputs": [
    {
     "data": {
      "text/html": [
       "<div>\n",
       "<style scoped>\n",
       "    .dataframe tbody tr th:only-of-type {\n",
       "        vertical-align: middle;\n",
       "    }\n",
       "\n",
       "    .dataframe tbody tr th {\n",
       "        vertical-align: top;\n",
       "    }\n",
       "\n",
       "    .dataframe thead th {\n",
       "        text-align: right;\n",
       "    }\n",
       "</style>\n",
       "<table border=\"1\" class=\"dataframe\">\n",
       "  <thead>\n",
       "    <tr style=\"text-align: right;\">\n",
       "      <th></th>\n",
       "      <th>population</th>\n",
       "      <th>fertility</th>\n",
       "      <th>HIV</th>\n",
       "      <th>CO2</th>\n",
       "      <th>BMI_male</th>\n",
       "      <th>GDP</th>\n",
       "      <th>BMI_female</th>\n",
       "      <th>life</th>\n",
       "      <th>child_mortality</th>\n",
       "      <th>Region</th>\n",
       "    </tr>\n",
       "  </thead>\n",
       "  <tbody>\n",
       "    <tr>\n",
       "      <th>0</th>\n",
       "      <td>34811059.0</td>\n",
       "      <td>2.73</td>\n",
       "      <td>0.1</td>\n",
       "      <td>3.328945</td>\n",
       "      <td>24.59620</td>\n",
       "      <td>12314.0</td>\n",
       "      <td>129.9049</td>\n",
       "      <td>75.3</td>\n",
       "      <td>29.5</td>\n",
       "      <td>Middle East &amp; North Africa</td>\n",
       "    </tr>\n",
       "    <tr>\n",
       "      <th>1</th>\n",
       "      <td>19842251.0</td>\n",
       "      <td>6.43</td>\n",
       "      <td>2.0</td>\n",
       "      <td>1.474353</td>\n",
       "      <td>22.25083</td>\n",
       "      <td>7103.0</td>\n",
       "      <td>130.1247</td>\n",
       "      <td>58.3</td>\n",
       "      <td>192.0</td>\n",
       "      <td>Sub-Saharan Africa</td>\n",
       "    </tr>\n",
       "    <tr>\n",
       "      <th>2</th>\n",
       "      <td>40381860.0</td>\n",
       "      <td>2.24</td>\n",
       "      <td>0.5</td>\n",
       "      <td>4.785170</td>\n",
       "      <td>27.50170</td>\n",
       "      <td>14646.0</td>\n",
       "      <td>118.8915</td>\n",
       "      <td>75.5</td>\n",
       "      <td>15.4</td>\n",
       "      <td>America</td>\n",
       "    </tr>\n",
       "    <tr>\n",
       "      <th>3</th>\n",
       "      <td>2975029.0</td>\n",
       "      <td>1.40</td>\n",
       "      <td>0.1</td>\n",
       "      <td>1.804106</td>\n",
       "      <td>25.35542</td>\n",
       "      <td>7383.0</td>\n",
       "      <td>132.8108</td>\n",
       "      <td>72.5</td>\n",
       "      <td>20.0</td>\n",
       "      <td>Europe &amp; Central Asia</td>\n",
       "    </tr>\n",
       "    <tr>\n",
       "      <th>4</th>\n",
       "      <td>21370348.0</td>\n",
       "      <td>1.96</td>\n",
       "      <td>0.1</td>\n",
       "      <td>18.016313</td>\n",
       "      <td>27.56373</td>\n",
       "      <td>41312.0</td>\n",
       "      <td>117.3755</td>\n",
       "      <td>81.5</td>\n",
       "      <td>5.2</td>\n",
       "      <td>East Asia &amp; Pacific</td>\n",
       "    </tr>\n",
       "  </tbody>\n",
       "</table>\n",
       "</div>"
      ],
      "text/plain": [
       "   population  fertility  HIV        CO2  BMI_male      GDP  BMI_female  life  \\\n",
       "0  34811059.0       2.73  0.1   3.328945  24.59620  12314.0    129.9049  75.3   \n",
       "1  19842251.0       6.43  2.0   1.474353  22.25083   7103.0    130.1247  58.3   \n",
       "2  40381860.0       2.24  0.5   4.785170  27.50170  14646.0    118.8915  75.5   \n",
       "3   2975029.0       1.40  0.1   1.804106  25.35542   7383.0    132.8108  72.5   \n",
       "4  21370348.0       1.96  0.1  18.016313  27.56373  41312.0    117.3755  81.5   \n",
       "\n",
       "   child_mortality                      Region  \n",
       "0             29.5  Middle East & North Africa  \n",
       "1            192.0          Sub-Saharan Africa  \n",
       "2             15.4                     America  \n",
       "3             20.0       Europe & Central Asia  \n",
       "4              5.2         East Asia & Pacific  "
      ]
     },
     "execution_count": 32,
     "metadata": {},
     "output_type": "execute_result"
    }
   ],
   "source": [
    "\n",
    "\n",
    "# Keep header, infer schema automatically\n",
    "df = spark.read.csv('./Region_info.csv', schema=final_schema,header = True)\n",
    "df.limit(5).toPandas()"
   ]
  },
  {
   "cell_type": "markdown",
   "metadata": {},
   "source": [
    "## printing schema"
   ]
  },
  {
   "cell_type": "code",
   "execution_count": 33,
   "metadata": {},
   "outputs": [
    {
     "name": "stdout",
     "output_type": "stream",
     "text": [
      "root\n",
      " |-- population: double (nullable = true)\n",
      " |-- fertility: double (nullable = true)\n",
      " |-- HIV: double (nullable = true)\n",
      " |-- CO2: double (nullable = true)\n",
      " |-- BMI_male: double (nullable = true)\n",
      " |-- GDP: double (nullable = true)\n",
      " |-- BMI_female: double (nullable = true)\n",
      " |-- life: double (nullable = true)\n",
      " |-- child_mortality: double (nullable = true)\n",
      " |-- Region: string (nullable = true)\n",
      "\n"
     ]
    }
   ],
   "source": [
    "df.printSchema()"
   ]
  },
  {
   "cell_type": "markdown",
   "metadata": {},
   "source": [
    "## Step 2 removing column Region"
   ]
  },
  {
   "cell_type": "code",
   "execution_count": 34,
   "metadata": {},
   "outputs": [],
   "source": [
    "df1=df.drop(df[\"Region\"])"
   ]
  },
  {
   "cell_type": "code",
   "execution_count": 35,
   "metadata": {},
   "outputs": [
    {
     "name": "stdout",
     "output_type": "stream",
     "text": [
      "+-----------+---------+---+------------------+--------+-------+----------+----+---------------+\n",
      "| population|fertility|HIV|               CO2|BMI_male|    GDP|BMI_female|life|child_mortality|\n",
      "+-----------+---------+---+------------------+--------+-------+----------+----+---------------+\n",
      "|3.4811059E7|     2.73|0.1| 3.328944661018629| 24.5962|12314.0|  129.9049|75.3|           29.5|\n",
      "|1.9842251E7|     6.43|2.0|1.4743533878509398|22.25083| 7103.0|  130.1247|58.3|          192.0|\n",
      "| 4.038186E7|     2.24|0.5|  4.78516998252535| 27.5017|14646.0|  118.8915|75.5|           15.4|\n",
      "|  2975029.0|      1.4|0.1|   1.8041062172001|25.35542| 7383.0|  132.8108|72.5|           20.0|\n",
      "|2.1370348E7|     1.96|0.1|  18.0163132681972|27.56373|41312.0|  117.3755|81.5|            5.2|\n",
      "+-----------+---------+---+------------------+--------+-------+----------+----+---------------+\n",
      "only showing top 5 rows\n",
      "\n"
     ]
    }
   ],
   "source": [
    "df1.show(5)"
   ]
  },
  {
   "cell_type": "markdown",
   "metadata": {},
   "source": [
    "### relationship between ‘fertility’ feature and ‘life’"
   ]
  },
  {
   "cell_type": "code",
   "execution_count": 36,
   "metadata": {},
   "outputs": [],
   "source": [
    "from pyspark.sql import SQLContext\n",
    "df1.registerTempTable('region')\n",
    "sqlContext = SQLContext(spark)"
   ]
  },
  {
   "cell_type": "markdown",
   "metadata": {},
   "source": [
    "### Scatter Plot"
   ]
  },
  {
   "cell_type": "code",
   "execution_count": 37,
   "metadata": {},
   "outputs": [
    {
     "data": {
      "image/png": "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\n",
      "text/plain": [
       "<Figure size 432x288 with 1 Axes>"
      ]
     },
     "metadata": {
      "needs_background": "light"
     },
     "output_type": "display_data"
    }
   ],
   "source": [
    "\n",
    "df3 = sqlContext.sql(\"SELECT fertility, life from region\").toPandas()\n",
    "fig=plt.figure()\n",
    "ax=fig.add_axes([0,0,1,1])\n",
    "ax.scatter(df3['life'],df3['fertility'], color='r')\n",
    "ax.set_xlabel('fertility')\n",
    "ax.set_ylabel('life')\n",
    "ax.set_title('scatter plot')\n",
    "plt.title('relationship between ‘fertility’ feature and ‘life’')\n",
    "plt.show()"
   ]
  },
  {
   "cell_type": "markdown",
   "metadata": {},
   "source": [
    "### 3d Scatter Plot"
   ]
  },
  {
   "cell_type": "code",
   "execution_count": 38,
   "metadata": {},
   "outputs": [
    {
     "data": {
      "image/png": "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\n",
      "text/plain": [
       "<Figure size 432x288 with 1 Axes>"
      ]
     },
     "metadata": {
      "needs_background": "light"
     },
     "output_type": "display_data"
    }
   ],
   "source": [
    "\n",
    "fig = plt.figure()\n",
    "ax = plt.axes(projection='3d')\n",
    "ax.scatter(df3['life'],df3['fertility'], color='r')\n",
    "ax.set_title('relationship between ‘fertility’ feature and ‘life’')\n",
    "plt.show()"
   ]
  },
  {
   "cell_type": "markdown",
   "metadata": {},
   "source": [
    "## Step 4 ‘fertility’ is great than 1.0 and ‘life’ is greater than 70"
   ]
  },
  {
   "cell_type": "code",
   "execution_count": 39,
   "metadata": {},
   "outputs": [
    {
     "data": {
      "text/html": [
       "<div>\n",
       "<style scoped>\n",
       "    .dataframe tbody tr th:only-of-type {\n",
       "        vertical-align: middle;\n",
       "    }\n",
       "\n",
       "    .dataframe tbody tr th {\n",
       "        vertical-align: top;\n",
       "    }\n",
       "\n",
       "    .dataframe thead th {\n",
       "        text-align: right;\n",
       "    }\n",
       "</style>\n",
       "<table border=\"1\" class=\"dataframe\">\n",
       "  <thead>\n",
       "    <tr style=\"text-align: right;\">\n",
       "      <th></th>\n",
       "      <th>fertility</th>\n",
       "      <th>life</th>\n",
       "    </tr>\n",
       "  </thead>\n",
       "  <tbody>\n",
       "    <tr>\n",
       "      <th>0</th>\n",
       "      <td>2.73</td>\n",
       "      <td>75.3</td>\n",
       "    </tr>\n",
       "    <tr>\n",
       "      <th>1</th>\n",
       "      <td>2.24</td>\n",
       "      <td>75.5</td>\n",
       "    </tr>\n",
       "    <tr>\n",
       "      <th>2</th>\n",
       "      <td>1.40</td>\n",
       "      <td>72.5</td>\n",
       "    </tr>\n",
       "    <tr>\n",
       "      <th>3</th>\n",
       "      <td>1.96</td>\n",
       "      <td>81.5</td>\n",
       "    </tr>\n",
       "    <tr>\n",
       "      <th>4</th>\n",
       "      <td>1.41</td>\n",
       "      <td>80.4</td>\n",
       "    </tr>\n",
       "  </tbody>\n",
       "</table>\n",
       "</div>"
      ],
      "text/plain": [
       "   fertility  life\n",
       "0       2.73  75.3\n",
       "1       2.24  75.5\n",
       "2       1.40  72.5\n",
       "3       1.96  81.5\n",
       "4       1.41  80.4"
      ]
     },
     "execution_count": 39,
     "metadata": {},
     "output_type": "execute_result"
    }
   ],
   "source": [
    "df4 = sqlContext.sql(\"SELECT fertility, life from region where fertility > 1 and life > 70\").toPandas()\n",
    "df4.head(5)"
   ]
  },
  {
   "cell_type": "markdown",
   "metadata": {},
   "source": [
    "## Step 5 Linear Regression"
   ]
  },
  {
   "cell_type": "markdown",
   "metadata": {},
   "source": [
    "### preprocessing the data only taking fertility and life columns/"
   ]
  },
  {
   "cell_type": "code",
   "execution_count": 40,
   "metadata": {},
   "outputs": [
    {
     "name": "stdout",
     "output_type": "stream",
     "text": [
      "+--------+----+\n",
      "|features|life|\n",
      "+--------+----+\n",
      "|  [2.73]|75.3|\n",
      "|  [6.43]|58.3|\n",
      "|  [2.24]|75.5|\n",
      "+--------+----+\n",
      "only showing top 3 rows\n",
      "\n"
     ]
    }
   ],
   "source": [
    "from pyspark.ml.feature import VectorAssembler\n",
    "vectorAssembler = VectorAssembler(inputCols = [\"fertility\"], outputCol = 'features')\n",
    "vhouse_df = vectorAssembler.transform(df)\n",
    "vhouse_df = vhouse_df.select(['features', 'life'])\n",
    "vhouse_df.show(3)"
   ]
  },
  {
   "cell_type": "markdown",
   "metadata": {},
   "source": [
    "### splitting the train and test data"
   ]
  },
  {
   "cell_type": "code",
   "execution_count": 41,
   "metadata": {},
   "outputs": [],
   "source": [
    "train_df,test_df = vhouse_df.randomSplit([0.7, 0.3])"
   ]
  },
  {
   "cell_type": "code",
   "execution_count": 42,
   "metadata": {},
   "outputs": [
    {
     "name": "stdout",
     "output_type": "stream",
     "text": [
      "+-------+-----------------+\n",
      "|summary|             life|\n",
      "+-------+-----------------+\n",
      "|  count|               92|\n",
      "|   mean|70.10652173913041|\n",
      "| stddev| 7.94349280094362|\n",
      "|    min|             49.0|\n",
      "|    max|             82.0|\n",
      "+-------+-----------------+\n",
      "\n"
     ]
    }
   ],
   "source": [
    "train_df.describe().show()"
   ]
  },
  {
   "cell_type": "markdown",
   "metadata": {},
   "source": [
    "## Linear Regressionn using fertility and life columns only"
   ]
  },
  {
   "cell_type": "code",
   "execution_count": 43,
   "metadata": {},
   "outputs": [
    {
     "name": "stdout",
     "output_type": "stream",
     "text": [
      "Coefficients: [-3.7298311842411254]\n",
      "Intercept: 81.13709205009046\n"
     ]
    }
   ],
   "source": [
    "from pyspark.ml.regression import LinearRegression\n",
    "lr = LinearRegression(featuresCol = 'features', labelCol='life', maxIter=10, regParam=0.3, elasticNetParam=0.8)\n",
    "lr_model = lr.fit(train_df)\n",
    "print(\"Coefficients: \" + str(lr_model.coefficients))\n",
    "print(\"Intercept: \" + str(lr_model.intercept))"
   ]
  },
  {
   "cell_type": "markdown",
   "metadata": {},
   "source": [
    "### Evaluating the model"
   ]
  },
  {
   "cell_type": "code",
   "execution_count": 44,
   "metadata": {},
   "outputs": [
    {
     "name": "stdout",
     "output_type": "stream",
     "text": [
      "RMSE: 5.142081\n",
      "r2: 0.576356\n"
     ]
    }
   ],
   "source": [
    "trainingSummary = lr_model.summary\n",
    "print(\"RMSE: %f\" % trainingSummary.rootMeanSquaredError)\n",
    "print(\"r2: %f\" % trainingSummary.r2)"
   ]
  },
  {
   "cell_type": "markdown",
   "metadata": {},
   "source": [
    "### Making predictions on Test data and comparing them with actual values"
   ]
  },
  {
   "cell_type": "code",
   "execution_count": 45,
   "metadata": {},
   "outputs": [
    {
     "name": "stdout",
     "output_type": "stream",
     "text": [
      "+-----------------+----+--------+\n",
      "|       prediction|life|features|\n",
      "+-----------------+----+--------+\n",
      "|76.25101319873458|74.8|  [1.31]|\n",
      "|76.13911826320735|73.4|  [1.34]|\n",
      "|76.13911826320735|82.6|  [1.34]|\n",
      "|76.06452163952252|79.2|  [1.36]|\n",
      "|76.02722332768012|80.0|  [1.37]|\n",
      "+-----------------+----+--------+\n",
      "only showing top 5 rows\n",
      "\n",
      "R Squared (R2) on test data = 0.62306\n"
     ]
    }
   ],
   "source": [
    "lr_predictions = lr_model.transform(test_df)\n",
    "lr_predictions.select(\"prediction\",\"life\",\"features\").show(5)\n",
    "from pyspark.ml.evaluation import RegressionEvaluator\n",
    "lr_evaluator = RegressionEvaluator(predictionCol=\"prediction\", \\\n",
    "                 labelCol=\"life\",metricName=\"r2\")\n",
    "print(\"R Squared (R2) on test data = %g\" % lr_evaluator.evaluate(lr_predictions))"
   ]
  },
  {
   "cell_type": "markdown",
   "metadata": {},
   "source": [
    "### model evaluation on test data"
   ]
  },
  {
   "cell_type": "code",
   "execution_count": 46,
   "metadata": {},
   "outputs": [
    {
     "name": "stdout",
     "output_type": "stream",
     "text": [
      "Root Mean Squared Error (RMSE) on test data = 6.74491\n"
     ]
    }
   ],
   "source": [
    "test_result = lr_model.evaluate(test_df)\n",
    "print(\"Root Mean Squared Error (RMSE) on test data = %g\" % test_result.rootMeanSquaredError)"
   ]
  },
  {
   "cell_type": "code",
   "execution_count": 47,
   "metadata": {},
   "outputs": [
    {
     "name": "stdout",
     "output_type": "stream",
     "text": [
      "numIterations: 3\n",
      "objectiveHistory: [0.5, 0.4315683238011724, 0.2358123372598605]\n",
      "+-------------------+\n",
      "|          residuals|\n",
      "+-------------------+\n",
      "|  4.537091865738191|\n",
      "|-2.3764165750497597|\n",
      "|-0.8764165750497597|\n",
      "|  -7.78992501583771|\n",
      "|  5.410074984162293|\n",
      "|  5.447373296004713|\n",
      "| 0.5219699196895391|\n",
      "|  4.521969919689539|\n",
      "| -5.740731768468066|\n",
      "|-3.8407317684680606|\n",
      "|  5.259268231531934|\n",
      "| 0.6965665433743453|\n",
      "| 3.8084614789015774|\n",
      "|  6.245759790744003|\n",
      "| -7.979643585571182|\n",
      "| -5.979643585571182|\n",
      "| 2.2576547262712268|\n",
      "| -3.143958778989486|\n",
      "| -1.094765531619828|\n",
      "|  5.829024339434639|\n",
      "+-------------------+\n",
      "only showing top 20 rows\n",
      "\n"
     ]
    }
   ],
   "source": [
    "print(\"numIterations: %d\" % trainingSummary.totalIterations)\n",
    "print(\"objectiveHistory: %s\" % str(trainingSummary.objectiveHistory))\n",
    "trainingSummary.residuals.show()"
   ]
  },
  {
   "cell_type": "code",
   "execution_count": 48,
   "metadata": {},
   "outputs": [
    {
     "name": "stdout",
     "output_type": "stream",
     "text": [
      "+-----------------+----+--------+\n",
      "|       prediction|life|features|\n",
      "+-----------------+----+--------+\n",
      "|76.25101319873458|74.8|  [1.31]|\n",
      "|76.13911826320735|73.4|  [1.34]|\n",
      "|76.13911826320735|82.6|  [1.34]|\n",
      "|76.06452163952252|79.2|  [1.36]|\n",
      "|76.02722332768012|80.0|  [1.37]|\n",
      "|75.91532839215289|72.5|   [1.4]|\n",
      "|75.80343345662565|73.2|  [1.43]|\n",
      "|75.80343345662565|78.5|  [1.43]|\n",
      "| 75.6169418974136|74.1|  [1.48]|\n",
      "|75.54234527372877|72.3|   [1.5]|\n",
      "|75.28125709083189|77.6|  [1.57]|\n",
      "|75.05746721977742|80.7|  [1.63]|\n",
      "|74.53529085398367|80.3|  [1.77]|\n",
      "|74.34879929477161|79.4|  [1.82]|\n",
      "|74.23690435924438|79.4|  [1.85]|\n",
      "|74.16230773555955|79.5|  [1.87]|\n",
      "|74.12500942371715|76.9|  [1.88]|\n",
      "|74.08771111187474|72.2|  [1.89]|\n",
      "|74.08771111187474|78.7|  [1.89]|\n",
      "|74.01311448818991|79.7|  [1.91]|\n",
      "+-----------------+----+--------+\n",
      "only showing top 20 rows\n",
      "\n"
     ]
    }
   ],
   "source": [
    "predictions = lr_model.transform(test_df)\n",
    "predictions.select(\"prediction\",\"life\",\"features\").show()"
   ]
  },
  {
   "cell_type": "markdown",
   "metadata": {},
   "source": [
    "## Step 6 Lasso"
   ]
  },
  {
   "cell_type": "code",
   "execution_count": 49,
   "metadata": {},
   "outputs": [],
   "source": [
    "from pyspark.ml.regression import LinearRegression\n",
    "from pyspark.mllib.regression import LabeledPoint\n",
    "from pyspark.mllib.util import MLUtils"
   ]
  },
  {
   "cell_type": "markdown",
   "metadata": {},
   "source": [
    "### preprocessing the data"
   ]
  },
  {
   "cell_type": "code",
   "execution_count": 50,
   "metadata": {},
   "outputs": [
    {
     "name": "stdout",
     "output_type": "stream",
     "text": [
      "+--------------------+----+\n",
      "|            features|life|\n",
      "+--------------------+----+\n",
      "|[3.4811059E7,2.73...|75.3|\n",
      "|[1.9842251E7,6.43...|58.3|\n",
      "|[4.038186E7,2.24,...|75.5|\n",
      "+--------------------+----+\n",
      "only showing top 3 rows\n",
      "\n"
     ]
    }
   ],
   "source": [
    "from pyspark.ml.feature import VectorAssembler\n",
    "vectorAssembler = VectorAssembler(inputCols = [\"population\",\"fertility\",\"population\",\"HIV\",\"BMI_male\",\"GDP\",\"BMI_female\",\"child_mortality\"],\n",
    "                                  outputCol = 'features')\n",
    "lasso_df = vectorAssembler.transform(df)\n",
    "lasso_df = lasso_df.select(['features', 'life'])\n",
    "lasso_df.show(3)"
   ]
  },
  {
   "cell_type": "markdown",
   "metadata": {},
   "source": [
    "### splitting the train and test data"
   ]
  },
  {
   "cell_type": "code",
   "execution_count": 51,
   "metadata": {},
   "outputs": [],
   "source": [
    "train_df,test_df = lasso_df.randomSplit([0.7, 0.3])"
   ]
  },
  {
   "cell_type": "code",
   "execution_count": 52,
   "metadata": {},
   "outputs": [
    {
     "name": "stdout",
     "output_type": "stream",
     "text": [
      "+-------+-----------------+\n",
      "|summary|             life|\n",
      "+-------+-----------------+\n",
      "|  count|               92|\n",
      "|   mean|69.71195652173911|\n",
      "| stddev|9.563539305196844|\n",
      "|    min|             45.2|\n",
      "|    max|             82.6|\n",
      "+-------+-----------------+\n",
      "\n"
     ]
    }
   ],
   "source": [
    "train_df.describe().show()"
   ]
  },
  {
   "cell_type": "markdown",
   "metadata": {},
   "source": [
    "### Lasso using all the columns present in data "
   ]
  },
  {
   "cell_type": "code",
   "execution_count": 53,
   "metadata": {},
   "outputs": [],
   "source": [
    "lr = LinearRegression(featuresCol = 'features', labelCol='life',maxIter=10, regParam=0.3, elasticNetParam=1)\n",
    "\n",
    "# Fit the model\n",
    "lr_model = lr.fit(train_df)"
   ]
  },
  {
   "cell_type": "markdown",
   "metadata": {},
   "source": [
    "###  Print the weights and intercept for linear regression"
   ]
  },
  {
   "cell_type": "code",
   "execution_count": 54,
   "metadata": {},
   "outputs": [
    {
     "name": "stdout",
     "output_type": "stream",
     "text": [
      "Weights: [2.1493658792706945e-10,-0.4164280991963831,2.1493658792706945e-10,-0.5685494952688896,0.09443352088577908,8.329430663928927e-05,-0.24077042674158802,-0.09338285115745333]\n",
      "Intercept: 102.90565373024289\n"
     ]
    }
   ],
   "source": [
    "print(\"Weights: \" + str(lr_model.coefficients))\n",
    "print(\"Intercept: \" + str(lr_model.intercept))"
   ]
  },
  {
   "cell_type": "markdown",
   "metadata": {},
   "source": [
    "### By setting α properly, elastic net contains both L1 and L2 regularization as special cases. For example, if a linear regression model is trained with the elastic net parameter α set to 1, it is equivalent to a Lasso model. On the other hand, if α is set to 0, the trained model reduces to a ridge regression model."
   ]
  },
  {
   "cell_type": "markdown",
   "metadata": {},
   "source": [
    "### Summary of lasso"
   ]
  },
  {
   "cell_type": "code",
   "execution_count": 55,
   "metadata": {},
   "outputs": [
    {
     "name": "stdout",
     "output_type": "stream",
     "text": [
      "RMSE: 3.086035\n",
      "r2: 0.894728\n"
     ]
    }
   ],
   "source": [
    "trainingSummary = lr_model.summary\n",
    "print(\"RMSE: %f\" % trainingSummary.rootMeanSquaredError)\n",
    "print(\"r2: %f\" % trainingSummary.r2)"
   ]
  },
  {
   "cell_type": "markdown",
   "metadata": {},
   "source": [
    "### Making predictions on test data and comparing them with actual values"
   ]
  },
  {
   "cell_type": "code",
   "execution_count": 56,
   "metadata": {},
   "outputs": [
    {
     "name": "stdout",
     "output_type": "stream",
     "text": [
      "+-----------------+----+--------------------+\n",
      "|       prediction|life|            features|\n",
      "+-----------------+----+--------------------+\n",
      "|73.36508877309276|75.3|[277315.0,1.83,27...|\n",
      "|79.10372781200952|82.0|[310033.0,2.12,31...|\n",
      "|73.88877653914705|78.2|[321026.0,2.38,32...|\n",
      "|63.57396198277725|61.0|[809639.0,3.76,80...|\n",
      "|73.94820080892767|71.3|[1315372.0,1.8,13...|\n",
      "+-----------------+----+--------------------+\n",
      "only showing top 5 rows\n",
      "\n",
      "R Squared (R2) on test data = 0.866665\n"
     ]
    }
   ],
   "source": [
    "lr_predictions = lr_model.transform(test_df)\n",
    "lr_predictions.select(\"prediction\",\"life\",\"features\").show(5)\n",
    "from pyspark.ml.evaluation import RegressionEvaluator\n",
    "lr_evaluator = RegressionEvaluator(predictionCol=\"prediction\", \\\n",
    "                 labelCol=\"life\",metricName=\"r2\")\n",
    "print(\"R Squared (R2) on test data = %g\" % lr_evaluator.evaluate(lr_predictions))"
   ]
  },
  {
   "cell_type": "markdown",
   "metadata": {},
   "source": [
    "### Evaluation of model on test data"
   ]
  },
  {
   "cell_type": "code",
   "execution_count": 57,
   "metadata": {},
   "outputs": [
    {
     "name": "stdout",
     "output_type": "stream",
     "text": [
      "Root Mean Squared Error (RMSE) on test data = 2.99285\n"
     ]
    }
   ],
   "source": [
    "test_result = lr_model.evaluate(test_df)\n",
    "print(\"Root Mean Squared Error (RMSE) on test data = %g\" % test_result.rootMeanSquaredError)"
   ]
  },
  {
   "cell_type": "code",
   "execution_count": 58,
   "metadata": {},
   "outputs": [
    {
     "name": "stdout",
     "output_type": "stream",
     "text": [
      "numIterations: 11\n",
      "objectiveHistory: [0.5000000000000036, 0.42303559784309874, 0.10236816364748572, 0.09862134087557062, 0.09157748860613436, 0.09036714381269517, 0.08971507872958369, 0.08938268385624802, 0.08906824428566469, 0.08905643963568466, 0.08904923017080026]\n",
      "+--------------------+\n",
      "|           residuals|\n",
      "+--------------------+\n",
      "| -1.8805218509467778|\n",
      "|  -1.456743418843402|\n",
      "|   4.699542389013516|\n",
      "|   -2.13558552796043|\n",
      "| -3.2897306734683838|\n",
      "|-0.04132321219750423|\n",
      "|  -4.062896959147068|\n",
      "| -2.1555392421579427|\n",
      "| -6.7076752752311535|\n",
      "|  -6.173516376405587|\n",
      "| -0.9880915503980177|\n",
      "|-0.24237065678659064|\n",
      "| -0.3933009327826653|\n",
      "| -3.4138285134440878|\n",
      "|  -6.462844408125179|\n",
      "|0.012426205456151251|\n",
      "|    8.40903727885268|\n",
      "| -2.8980932713477614|\n",
      "|    2.69219818835208|\n",
      "| -1.7082376728758817|\n",
      "+--------------------+\n",
      "only showing top 20 rows\n",
      "\n"
     ]
    }
   ],
   "source": [
    "print(\"numIterations: %d\" % trainingSummary.totalIterations)\n",
    "print(\"objectiveHistory: %s\" % str(trainingSummary.objectiveHistory))\n",
    "trainingSummary.residuals.show()"
   ]
  },
  {
   "cell_type": "code",
   "execution_count": 59,
   "metadata": {},
   "outputs": [
    {
     "name": "stdout",
     "output_type": "stream",
     "text": [
      "+-----------------+----+--------------------+\n",
      "|       prediction|life|            features|\n",
      "+-----------------+----+--------------------+\n",
      "|73.36508877309276|75.3|[277315.0,1.83,27...|\n",
      "|79.10372781200952|82.0|[310033.0,2.12,31...|\n",
      "|73.88877653914705|78.2|[321026.0,2.38,32...|\n",
      "|63.57396198277725|61.0|[809639.0,3.76,80...|\n",
      "|73.94820080892767|71.3|[1315372.0,1.8,13...|\n",
      "|58.05356956856926|51.3|[1561293.0,5.25,1...|\n",
      "|72.00743081778285|75.5|[2717344.0,2.39,2...|\n",
      "|73.45873065364427|77.1|[3498679.0,2.61,3...|\n",
      "|62.78979125885037|58.6|[3832771.0,5.1,38...|\n",
      "|74.19040975157898|77.6|[4109389.0,1.57,4...|\n",
      "|71.74248872016342|69.6|[4111168.0,1.49,4...|\n",
      "|71.76759113959578|72.1|[4343290.0,1.79,4...|\n",
      "|75.28055618534974|79.7|[4429506.0,1.91,4...|\n",
      "|52.93665947716184|55.9|[5521838.0,5.13,5...|\n",
      "|72.26942467687249|73.6|[6047131.0,3.06,6...|\n",
      "|73.67483491703014|76.4|[9109535.0,1.41,9...|\n",
      "|78.25985199308619|81.1|[9226333.0,1.92,9...|\n",
      "|64.72465606277679|61.7|[9705130.0,3.5,97...|\n",
      "|75.16749041461706|73.8|[1.0050699E7,1.33...|\n",
      "|72.44823294642748|76.5|[1.0408091E7,2.04...|\n",
      "+-----------------+----+--------------------+\n",
      "only showing top 20 rows\n",
      "\n"
     ]
    }
   ],
   "source": [
    "predictions = lr_model.transform(test_df)\n",
    "predictions.select(\"prediction\",\"life\",\"features\").show()"
   ]
  },
  {
   "cell_type": "markdown",
   "metadata": {},
   "source": [
    "### --- End of Assigment ---"
   ]
  }
 ],
 "metadata": {
  "kernelspec": {
   "display_name": "Python 3",
   "language": "python",
   "name": "python3"
  },
  "language_info": {
   "codemirror_mode": {
    "name": "ipython",
    "version": 3
   },
   "file_extension": ".py",
   "mimetype": "text/x-python",
   "name": "python",
   "nbconvert_exporter": "python",
   "pygments_lexer": "ipython3",
   "version": "3.8.5"
  }
 },
 "nbformat": 4,
 "nbformat_minor": 4
}
